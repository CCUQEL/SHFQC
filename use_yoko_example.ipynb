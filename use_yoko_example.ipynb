{
 "cells": [
  {
   "cell_type": "code",
   "execution_count": 14,
   "metadata": {},
   "outputs": [],
   "source": [
    "import pyvisa\n",
    "from tsai14 import YOKOGAWA\n",
    "# connect to YOKOWAGA by visa adress\n",
    "rm = pyvisa.ResourceManager()\n",
    "yoko1 = YOKOGAWA('DC1', rm.open_resource('USB0::0x0B21::0x0039::90ZC38697::0::INSTR'))\n",
    "yoko2 = YOKOGAWA('DC2', rm.open_resource('USB0::0x0B21::0x0039::90ZC38696::0::INSTR'))\n",
    "yoko3 = YOKOGAWA('DC3', rm.open_resource('USB0::0x0B21::0x0039::9017D5818::0::INSTR'))\n",
    "yoko4 = YOKOGAWA('DC4', rm.open_resource('USB0::0x0B21::0x0039::9017D5816::0::INSTR'))"
   ]
  },
  {
   "cell_type": "code",
   "execution_count": 18,
   "metadata": {},
   "outputs": [],
   "source": [
    "# set mode and range, the docstring provides all you need\n",
    "yoko1.operation_setting('CURR', 200e-3)"
   ]
  },
  {
   "cell_type": "code",
   "execution_count": 16,
   "metadata": {},
   "outputs": [],
   "source": [
    "# turn output on and off\n",
    "yoko1.output('OFF') # or 'ON'."
   ]
  },
  {
   "cell_type": "code",
   "execution_count": 17,
   "metadata": {},
   "outputs": [],
   "source": [
    "# set output value, note that it only \"sets\", not output\n",
    "yoko1.output_value(150e-3) # if it is out of range, yoko will \"beee~~\""
   ]
  },
  {
   "cell_type": "code",
   "execution_count": 19,
   "metadata": {},
   "outputs": [],
   "source": [
    "# light off the error led on yoko\n",
    "yoko1.clear_error_flag()"
   ]
  },
  {
   "cell_type": "code",
   "execution_count": 23,
   "metadata": {},
   "outputs": [
    {
     "data": {
      "text/plain": [
       "<Thread(Thread-89, started 26268)>"
      ]
     },
     "execution_count": 23,
     "metadata": {},
     "output_type": "execute_result"
    }
   ],
   "source": [
    "# sweep the output value\n",
    "yoko1.sweep(200e-3, 0.1, 5e-3)\n",
    "# note that it will not block the code execution"
   ]
  },
  {
   "cell_type": "code",
   "execution_count": 24,
   "metadata": {},
   "outputs": [],
   "source": [
    "# it can not block the code execution by add `.join()` at the end\n",
    "yoko1.sweep(0e-3, 0.1, 5e-3).join()"
   ]
  },
  {
   "cell_type": "code",
   "execution_count": 28,
   "metadata": {},
   "outputs": [
    {
     "name": "stdout",
     "output_type": "stream",
     "text": [
      "ALL DCs are finished sweeping\n"
     ]
    }
   ],
   "source": [
    "yoko2.operation_setting('CURR', 200e-3)\n",
    "# can you this function to write docting like code, to wait sweeping\n",
    "YOKOGAWA.wait_for_sweeping(\n",
    "    yoko1.sweep(0e-3, 0.1, 1e-3),\n",
    "    yoko2.sweep(0e-3, 0.1, 3e-3)\n",
    ")\n",
    "print('ALL DCs are finished sweeping')"
   ]
  },
  {
   "cell_type": "code",
   "execution_count": null,
   "metadata": {},
   "outputs": [],
   "source": [
    "# For demag usage, one can see the `demag.ipynb` file"
   ]
  },
  {
   "cell_type": "code",
   "execution_count": 31,
   "metadata": {},
   "outputs": [
    {
     "name": "stdout",
     "output_type": "stream",
     "text": [
      "YOKOGAWA,GS210,90ZC38697,2.02\n",
      "\n"
     ]
    }
   ],
   "source": [
    "# for developer waht to try out SCPI command, one can use\n",
    "# .visa_write(), .visa_query().\n",
    "yoko1.visa_write('*CLS')\n",
    "response = yoko1.visa_query('*IDN?')\n",
    "print(response)"
   ]
  },
  {
   "cell_type": "code",
   "execution_count": 32,
   "metadata": {},
   "outputs": [],
   "source": [
    "import pyvisa\n",
    "from tsai14 import YOKOGAWA\n",
    "rm = pyvisa.ResourceManager()\n",
    "yoko1 = YOKOGAWA('DC1', rm.open_resource('USB0::0x0B21::0x0039::90ZC38697::0::INSTR'))\n",
    "yoko2 = YOKOGAWA('DC2', rm.open_resource('USB0::0x0B21::0x0039::90ZC38696::0::INSTR'))\n",
    "yoko3 = YOKOGAWA('DC3', rm.open_resource('USB0::0x0B21::0x0039::9017D5818::0::INSTR'))\n",
    "yoko4 = YOKOGAWA('DC4', rm.open_resource('USB0::0x0B21::0x0039::9017D5816::0::INSTR'))"
   ]
  },
  {
   "cell_type": "code",
   "execution_count": 35,
   "metadata": {},
   "outputs": [],
   "source": [
    "YOKOGAWA.wait_for_sweeping(\n",
    "    yoko3.sweep(0e-3, 0.1, 1e-3),\n",
    "    yoko4.sweep(0e-3, 0.1, 1e-3)\n",
    ")"
   ]
  },
  {
   "cell_type": "code",
   "execution_count": 36,
   "metadata": {},
   "outputs": [],
   "source": [
    "yokos = [yoko1, yoko2, yoko3, yoko4]\n",
    "for yoko in yokos: yoko.output('OFF')"
   ]
  }
 ],
 "metadata": {
  "kernelspec": {
   "display_name": "Python 3",
   "language": "python",
   "name": "python3"
  },
  "language_info": {
   "codemirror_mode": {
    "name": "ipython",
    "version": 3
   },
   "file_extension": ".py",
   "mimetype": "text/x-python",
   "name": "python",
   "nbconvert_exporter": "python",
   "pygments_lexer": "ipython3",
   "version": "3.8.8"
  }
 },
 "nbformat": 4,
 "nbformat_minor": 2
}
