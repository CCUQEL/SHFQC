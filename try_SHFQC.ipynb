{
 "cells": [
  {
   "cell_type": "markdown",
   "metadata": {},
   "source": [
    "## 1. Importing"
   ]
  },
  {
   "cell_type": "code",
   "execution_count": 2,
   "metadata": {},
   "outputs": [
    {
     "ename": "ModuleNotFoundError",
     "evalue": "No module named 'laboneq.analysis'",
     "output_type": "error",
     "traceback": [
      "\u001b[1;31m---------------------------------------------------------------------------\u001b[0m",
      "\u001b[1;31mModuleNotFoundError\u001b[0m                       Traceback (most recent call last)",
      "Cell \u001b[1;32mIn[2], line 2\u001b[0m\n\u001b[0;32m      1\u001b[0m \u001b[38;5;28;01mfrom\u001b[39;00m \u001b[38;5;21;01mlaboneq\u001b[39;00m\u001b[38;5;21;01m.\u001b[39;00m\u001b[38;5;21;01msimple\u001b[39;00m \u001b[38;5;28;01mimport\u001b[39;00m \u001b[38;5;241m*\u001b[39m\n\u001b[1;32m----> 2\u001b[0m \u001b[38;5;28;01mfrom\u001b[39;00m \u001b[38;5;21;01mlaboneq\u001b[39;00m\u001b[38;5;21;01m.\u001b[39;00m\u001b[38;5;21;01manalysis\u001b[39;00m\u001b[38;5;21;01m.\u001b[39;00m\u001b[38;5;21;01mfitting\u001b[39;00m \u001b[38;5;28;01mimport\u001b[39;00m (\n\u001b[0;32m      3\u001b[0m     lorentzian,\n\u001b[0;32m      4\u001b[0m     oscillatory,\n\u001b[0;32m      5\u001b[0m     oscillatory_decay,\n\u001b[0;32m      6\u001b[0m     exponential_decay,\n\u001b[0;32m      7\u001b[0m )\n\u001b[0;32m      8\u001b[0m \u001b[38;5;28;01mfrom\u001b[39;00m \u001b[38;5;21;01mlaboneq\u001b[39;00m\u001b[38;5;21;01m.\u001b[39;00m\u001b[38;5;21;01mcontrib\u001b[39;00m\u001b[38;5;21;01m.\u001b[39;00m\u001b[38;5;21;01mexample_helpers\u001b[39;00m\u001b[38;5;21;01m.\u001b[39;00m\u001b[38;5;21;01mplotting\u001b[39;00m\u001b[38;5;21;01m.\u001b[39;00m\u001b[38;5;21;01mplot_helpers\u001b[39;00m \u001b[38;5;28;01mimport\u001b[39;00m plot_simulation\n\u001b[0;32m      9\u001b[0m \u001b[38;5;28;01mfrom\u001b[39;00m \u001b[38;5;21;01mlaboneq\u001b[39;00m\u001b[38;5;21;01m.\u001b[39;00m\u001b[38;5;21;01mcontrib\u001b[39;00m\u001b[38;5;21;01m.\u001b[39;00m\u001b[38;5;21;01mexample_helpers\u001b[39;00m\u001b[38;5;21;01m.\u001b[39;00m\u001b[38;5;21;01mdescriptors\u001b[39;00m\u001b[38;5;21;01m.\u001b[39;00m\u001b[38;5;21;01mshfsg_shfqa_pqsc\u001b[39;00m \u001b[38;5;28;01mimport\u001b[39;00m (\n\u001b[0;32m     10\u001b[0m     descriptor_shfsg_shfqa_pqsc,\n\u001b[0;32m     11\u001b[0m )\n",
      "\u001b[1;31mModuleNotFoundError\u001b[0m: No module named 'laboneq.analysis'"
     ]
    }
   ],
   "source": [
    "from laboneq.simple import *\n",
    "from laboneq.analysis.fitting import (\n",
    "    lorentzian,\n",
    "    oscillatory,\n",
    "    oscillatory_decay,\n",
    "    exponential_decay,\n",
    ")\n",
    "from laboneq.contrib.example_helpers.plotting.plot_helpers import plot_simulation\n",
    "from laboneq.contrib.example_helpers.descriptors.shfsg_shfqa_pqsc import (\n",
    "    descriptor_shfsg_shfqa_pqsc,\n",
    ")\n",
    "from pathlib import Path\n",
    "import time\n",
    "import matplotlib.pyplot as plt\n",
    "import numpy as np"
   ]
  },
  {
   "cell_type": "markdown",
   "metadata": {},
   "source": [
    "## 2. instrument connection and setup"
   ]
  },
  {
   "cell_type": "code",
   "execution_count": 3,
   "metadata": {},
   "outputs": [],
   "source": [
    "descriptor_shfqc = \"\"\"\n",
    "instruments:\n",
    "  SHFQC:\n",
    "  - address: DEV12134\n",
    "    uid: device_shfqc\n",
    "    interface: 1gbe\n",
    "\n",
    "connections:\n",
    "  device_shfqc:\n",
    "    - iq_signal: q1/drive_line\n",
    "      ports: SGCHANNELS/0/OUTPUT\n",
    "    - iq_signal: q1/measure_line\n",
    "      ports: [QACHANNELS/0/OUTPUT]\n",
    "    - acquire_signal: q1/acquire_line\n",
    "      ports: [QACHANNELS/0/INPUT]\n",
    "\n",
    "    - iq_signal: q2/drive_line\n",
    "      ports: SGCHANNELS/1/OUTPUT\n",
    "    - iq_signal: q2/measure_line\n",
    "      ports: [QACHANNELS/0/OUTPUT]\n",
    "    - acquire_signal: q2/acquire_line\n",
    "      ports: [QACHANNELS/0/INPUT]\n",
    "\"\"\"\n",
    "# Define and Load device setup\n",
    "device_setup = DeviceSetup.from_descriptor(\n",
    "    yaml_text=descriptor_shfqc,\n",
    "    server_host=\"localhost\",  # ip address of the LabOne dataserver used to communicate with the instruments\n",
    "    server_port=\"8004\",  # port number of the dataserver - default is 8004\n",
    "    setup_name=\"my_setup\",  # setup name\n",
    ")\n",
    "# define shortcut to logical signals for convenience, extract from device setup\n",
    "lsg = {\n",
    "    qubit_name: device_setup.logical_signal_groups[qubit_name].logical_signals\n",
    "        for qubit_name in device_setup.logical_signal_groups.keys() # == dict_keys(['q0', 'q1'])\n",
    "}"
   ]
  },
  {
   "cell_type": "code",
   "execution_count": 4,
   "metadata": {},
   "outputs": [
    {
     "name": "stdout",
     "output_type": "stream",
     "text": [
      "2025.01.20 16:55:50.812 laboneq.controller.laboneq_logging INFO   Logging initialized from [Default inline config in laboneq.controller.laboneq_logging] logdir is c:\\Users\\QEL\\Desktop\\py\\SHFQC\\laboneq_output\\log\n",
      "2025.01.20 16:55:50.812 laboneq.controller.controller  INFO   VERSION: laboneq 2.2.0\n",
      "2025.01.20 16:55:50.813 laboneq.controller.devices.device_collection INFO   Connecting to data server at localhost:8004\n",
      "2025.01.20 16:55:50.813 laboneq.controller.communication INFO   Connected to Zurich Instruments LabOne Data Server version 23.02 at localhost:8004\n",
      "2025.01.20 16:55:50.815 laboneq.controller.devices.device_collection INFO   Configuring clock sources\n",
      "2025.01.20 16:55:50.815 laboneq.controller.devices.device_collection INFO   Clock sources configured\n"
     ]
    },
    {
     "data": {
      "text/plain": [
       "<laboneq.dsl.session.ConnectionState at 0x26050f06be0>"
      ]
     },
     "execution_count": 4,
     "metadata": {},
     "output_type": "execute_result"
    }
   ],
   "source": [
    "session = Session(device_setup=device_setup)\n",
    "session.connect(do_emulation=True)"
   ]
  },
  {
   "cell_type": "markdown",
   "metadata": {},
   "source": [
    "## 3. expriment setup"
   ]
  },
  {
   "cell_type": "code",
   "execution_count": 5,
   "metadata": {},
   "outputs": [
    {
     "ename": "NameError",
     "evalue": "name 'Qubit' is not defined",
     "output_type": "error",
     "traceback": [
      "\u001b[1;31m---------------------------------------------------------------------------\u001b[0m",
      "\u001b[1;31mNameError\u001b[0m                                 Traceback (most recent call last)",
      "Cell \u001b[1;32mIn[5], line 2\u001b[0m\n\u001b[0;32m      1\u001b[0m \u001b[38;5;66;03m# define the qubit parameter (rougthly setting)\u001b[39;00m\n\u001b[1;32m----> 2\u001b[0m q1 \u001b[38;5;241m=\u001b[39m \u001b[43mQubit\u001b[49m\u001b[38;5;241m.\u001b[39mfrom_logical_signal_group(\n\u001b[0;32m      3\u001b[0m     uid\u001b[38;5;241m=\u001b[39m\u001b[38;5;124m'\u001b[39m\u001b[38;5;124mq1\u001b[39m\u001b[38;5;124m'\u001b[39m, \u001b[38;5;66;03m# the uid of the qubit should match the name in `descriptor_shfqc`.\u001b[39;00m\n\u001b[0;32m      4\u001b[0m     lsg\u001b[38;5;241m=\u001b[39mdevice_setup\u001b[38;5;241m.\u001b[39mlogical_signal_groups[\u001b[38;5;124m\"\u001b[39m\u001b[38;5;124mq1\u001b[39m\u001b[38;5;124m\"\u001b[39m],\n\u001b[0;32m      5\u001b[0m     parameters\u001b[38;5;241m=\u001b[39mQubitParameters(\n\u001b[0;32m      6\u001b[0m         resonance_frequency \u001b[38;5;241m=\u001b[39m \u001b[38;5;241m3e+9\u001b[39m, \u001b[38;5;66;03m# Resonance frequency of the qubit.\u001b[39;00m\n\u001b[0;32m      7\u001b[0m         drive_lo_frequency \u001b[38;5;241m=\u001b[39m \u001b[38;5;241m3e+9\u001b[39m, \u001b[38;5;66;03m# LO for the qubit drive line.        \u001b[39;00m\n\u001b[0;32m      8\u001b[0m         drive_range \u001b[38;5;241m=\u001b[39m \u001b[38;5;241m10\u001b[39m, \u001b[38;5;66;03m# power range setting for drive line, in dBm, defaults is 10dBm.\u001b[39;00m\n\u001b[0;32m      9\u001b[0m         readout_resonator_frequency \u001b[38;5;241m=\u001b[39m \u001b[38;5;241m4e+9\u001b[39m, \u001b[38;5;66;03m# Resonance frequency of the readout resonator. (WE DONT HAVE IT)\u001b[39;00m\n\u001b[0;32m     10\u001b[0m         readout_lo_frequency \u001b[38;5;241m=\u001b[39m \u001b[38;5;241m4e+9\u001b[39m, \u001b[38;5;66;03m# LO frequency for the readout lines. (WE DONT HAVE IT)\u001b[39;00m\n\u001b[0;32m     11\u001b[0m         readout_range_out \u001b[38;5;241m=\u001b[39m \u001b[38;5;241m10\u001b[39m, \u001b[38;5;66;03m# power range setting for readout line, in dBm, defaults is 10dBm.(WE DONT HAVE IT)\u001b[39;00m\n\u001b[0;32m     12\u001b[0m     )\n\u001b[0;32m     13\u001b[0m )\n\u001b[0;32m     14\u001b[0m \u001b[38;5;66;03m# make a map to acess signal channel in a sanytax efficient way\u001b[39;00m\n\u001b[0;32m     15\u001b[0m signal_map \u001b[38;5;241m=\u001b[39m {\n\u001b[0;32m     16\u001b[0m     \u001b[38;5;124m\"\u001b[39m\u001b[38;5;124mmeasure\u001b[39m\u001b[38;5;124m\"\u001b[39m: device_setup\u001b[38;5;241m.\u001b[39mlogical_signal_groups[q1\u001b[38;5;241m.\u001b[39muid]\u001b[38;5;241m.\u001b[39mlogical_signals[\u001b[38;5;124m\"\u001b[39m\u001b[38;5;124mmeasure_line\u001b[39m\u001b[38;5;124m\"\u001b[39m],\n\u001b[0;32m     17\u001b[0m     \u001b[38;5;124m\"\u001b[39m\u001b[38;5;124macquire\u001b[39m\u001b[38;5;124m\"\u001b[39m: device_setup\u001b[38;5;241m.\u001b[39mlogical_signal_groups[q1\u001b[38;5;241m.\u001b[39muid]\u001b[38;5;241m.\u001b[39mlogical_signals[\u001b[38;5;124m\"\u001b[39m\u001b[38;5;124macquire_line\u001b[39m\u001b[38;5;124m\"\u001b[39m],\n\u001b[0;32m     18\u001b[0m     \u001b[38;5;124m\"\u001b[39m\u001b[38;5;124mdrive\u001b[39m\u001b[38;5;124m\"\u001b[39m: device_setup\u001b[38;5;241m.\u001b[39mlogical_signal_groups[q1\u001b[38;5;241m.\u001b[39muid]\u001b[38;5;241m.\u001b[39mlogical_signals[\u001b[38;5;124m\"\u001b[39m\u001b[38;5;124mdrive_line\u001b[39m\u001b[38;5;124m\"\u001b[39m],\n\u001b[0;32m     19\u001b[0m }\n",
      "\u001b[1;31mNameError\u001b[0m: name 'Qubit' is not defined"
     ]
    }
   ],
   "source": [
    "# define the qubit parameter (rougthly setting)\n",
    "q1 = Qubit.from_logical_signal_group(\n",
    "    uid='q1', # the uid of the qubit should match the name in `descriptor_shfqc`.\n",
    "    lsg=device_setup.logical_signal_groups[\"q1\"],\n",
    "    parameters=QubitParameters(\n",
    "        resonance_frequency = 3e+9, # Resonance frequency of the qubit.\n",
    "        drive_lo_frequency = 3e+9, # LO for the qubit drive line.        \n",
    "        drive_range = 10, # power range setting for drive line, in dBm, defaults is 10dBm.\n",
    "        readout_resonator_frequency = 4e+9, # Resonance frequency of the readout resonator. (WE DONT HAVE IT)\n",
    "        readout_lo_frequency = 4e+9, # LO frequency for the readout lines. (WE DONT HAVE IT)\n",
    "        readout_range_out = 10, # power range setting for readout line, in dBm, defaults is 10dBm.(WE DONT HAVE IT)\n",
    "    )\n",
    ")\n",
    "# make a map to acess signal channel in a sanytax efficient way\n",
    "signal_map = {\n",
    "    \"measure\": device_setup.logical_signal_groups[q1.uid].logical_signals[\"measure_line\"],\n",
    "    \"acquire\": device_setup.logical_signal_groups[q1.uid].logical_signals[\"acquire_line\"],\n",
    "    \"drive\": device_setup.logical_signal_groups[q1.uid].logical_signals[\"drive_line\"],\n",
    "}\n"
   ]
  },
  {
   "cell_type": "code",
   "execution_count": 5,
   "metadata": {},
   "outputs": [
    {
     "ename": "NameError",
     "evalue": "name 'q1' is not defined",
     "output_type": "error",
     "traceback": [
      "\u001b[1;31m---------------------------------------------------------------------------\u001b[0m",
      "\u001b[1;31mNameError\u001b[0m                                 Traceback (most recent call last)",
      "Cell \u001b[1;32mIn[5], line 2\u001b[0m\n\u001b[0;32m      1\u001b[0m \u001b[38;5;66;03m# q1.calibration() returns a dict for calibration objects that auto created, yet not set\u001b[39;00m\n\u001b[1;32m----> 2\u001b[0m signal_map[\u001b[38;5;124m'\u001b[39m\u001b[38;5;124mdrive\u001b[39m\u001b[38;5;124m'\u001b[39m]\u001b[38;5;241m.\u001b[39mcalibration \u001b[38;5;241m=\u001b[39m \u001b[43mq1\u001b[49m\u001b[38;5;241m.\u001b[39mcalibration()[signal_map[\u001b[38;5;124m'\u001b[39m\u001b[38;5;124mdrive\u001b[39m\u001b[38;5;124m'\u001b[39m]] \u001b[38;5;66;03m# now set it to signal\u001b[39;00m\n\u001b[0;32m      3\u001b[0m signal_map[\u001b[38;5;124m'\u001b[39m\u001b[38;5;124macquire\u001b[39m\u001b[38;5;124m'\u001b[39m]\u001b[38;5;241m.\u001b[39mcalibration \u001b[38;5;241m=\u001b[39m q1\u001b[38;5;241m.\u001b[39mcalibration()[signal_map[\u001b[38;5;124m'\u001b[39m\u001b[38;5;124macquire\u001b[39m\u001b[38;5;124m'\u001b[39m]]\n\u001b[0;32m      4\u001b[0m signal_map[\u001b[38;5;124m'\u001b[39m\u001b[38;5;124macquire\u001b[39m\u001b[38;5;124m'\u001b[39m]\u001b[38;5;241m.\u001b[39mcalibration \u001b[38;5;241m=\u001b[39m q1\u001b[38;5;241m.\u001b[39mcalibration()[signal_map[\u001b[38;5;124m'\u001b[39m\u001b[38;5;124macquire\u001b[39m\u001b[38;5;124m'\u001b[39m]]\n",
      "\u001b[1;31mNameError\u001b[0m: name 'q1' is not defined"
     ]
    }
   ],
   "source": [
    "# q1.calibration() returns a dict for calibration objects that auto created, yet not set\n",
    "signal_map['drive'].calibration = q1.calibration()[signal_map['drive']] # now set it to signal\n",
    "signal_map['acquire'].calibration = q1.calibration()[signal_map['acquire']]\n",
    "signal_map['acquire'].calibration = q1.calibration()[signal_map['acquire']]\n",
    "# or device_setup.set_calibration(q1.calibration()) would do the previous three lines\n",
    "signal_map['acquire'].calibration.local_oscillator.frequency = 4.1e+9\n",
    "signal_map['acquire'].calibration"
   ]
  },
  {
   "cell_type": "code",
   "execution_count": 6,
   "metadata": {},
   "outputs": [],
   "source": [
    "# a function to define an experiment sequencence\n",
    "def get_expe(freq_sweep, exp_settings):\n",
    "    # Create experiment object, specify used channels (we can use our map)\n",
    "    exp_spec = Experiment(\n",
    "        uid=\"Resonator Spectroscopy\",\n",
    "        signals=[\n",
    "            ExperimentSignal(\"measure\"),\n",
    "            ExperimentSignal(\"acquire\"),\n",
    "            ExperimentSignal(\"drive\"),\n",
    "        ],\n",
    "    )\n",
    "\n",
    "    ## define experimental sequence\n",
    "    # loop - average multiple measurements for each frequency - measurement in spectroscopy mode\n",
    "    with exp_spec.acquire_loop_rt( # acquire data for many times\n",
    "        uid=\"shots\",\n",
    "        count=exp_settings[\"num_averages\"],\n",
    "        acquisition_type=AcquisitionType.SPECTROSCOPY, # way to read data\n",
    "    ):\n",
    "        with exp_spec.sweep(uid=\"res_freq\", parameter=freq_sweep): # sweep for each freq\n",
    "            # readout pulse and data acquisition\n",
    "            with exp_spec.section(uid=\"spectroscopy\"):\n",
    "                # resonator signal readout\n",
    "                exp_spec.acquire(\n",
    "                    signal=\"acquire\", # signal == channel on instrument\n",
    "                    handle=\"expe_result\", # handel == the place to store read data\n",
    "                    length=exp_settings[\"integration_time\"],\n",
    "                )\n",
    "            with exp_spec.section(uid=\"delay\", length=10e-6):\n",
    "                # holdoff time after signal acquisition\n",
    "                exp_spec.reserve(signal=\"measure\")\n",
    "\n",
    "    return exp_spec"
   ]
  },
  {
   "cell_type": "code",
   "execution_count": 7,
   "metadata": {},
   "outputs": [],
   "source": [
    "#### calibration on experiment ####\n",
    "#---- Note: it returns an calibration object that stores key of channels and correspond values\n",
    "#----       it will then be set by Experiment.set_calibration().\n",
    "def get_expe_calib_obj(frequency_sweep, read_lo_freq, amplitude_sweep=None):\n",
    "    exp_calibration = Calibration()\n",
    "\n",
    "    exp_calibration[\"measure\"] = SignalCalibration( # we can use our map\n",
    "        oscillator=Oscillator(\n",
    "            \"readout_osc\",\n",
    "            frequency=frequency_sweep,\n",
    "            modulation_type=ModulationType.HARDWARE,\n",
    "        ),\n",
    "        local_oscillator=Oscillator(\n",
    "            frequency=read_lo_freq,\n",
    "        ),\n",
    "        amplitude=amplitude_sweep,\n",
    "    )\n",
    "    exp_calibration[\"acquire\"] = SignalCalibration(\n",
    "        local_oscillator=Oscillator(\n",
    "            frequency=read_lo_freq,\n",
    "        ),\n",
    "    )\n",
    "    return exp_calibration"
   ]
  },
  {
   "cell_type": "code",
   "execution_count": 8,
   "metadata": {},
   "outputs": [
    {
     "ename": "NameError",
     "evalue": "name 'signal_map' is not defined",
     "output_type": "error",
     "traceback": [
      "\u001b[1;31m---------------------------------------------------------------------------\u001b[0m",
      "\u001b[1;31mNameError\u001b[0m                                 Traceback (most recent call last)",
      "Cell \u001b[1;32mIn[8], line 10\u001b[0m\n\u001b[0;32m      8\u001b[0m read_lo_freq \u001b[38;5;241m=\u001b[39m \u001b[38;5;241m5e+9\u001b[39m\n\u001b[0;32m      9\u001b[0m expe \u001b[38;5;241m=\u001b[39m get_expe(freq_sweep, acquire_settings)\n\u001b[1;32m---> 10\u001b[0m expe\u001b[38;5;241m.\u001b[39mset_signal_map(\u001b[43msignal_map\u001b[49m)\n\u001b[0;32m     11\u001b[0m \u001b[38;5;66;03m#---- Note: we only `set` the calibration, the calibrating is done when compliling the experiment\u001b[39;00m\n\u001b[0;32m     12\u001b[0m expe\u001b[38;5;241m.\u001b[39mset_calibration(get_expe_calib_obj(freq_sweep, read_lo_freq)) \n",
      "\u001b[1;31mNameError\u001b[0m: name 'signal_map' is not defined"
     ]
    }
   ],
   "source": [
    "freq_sweep = LinearSweepParameter(\n",
    "    uid=\"res_freq\",\n",
    "    start=200.0e6, # start_freq\n",
    "    stop=300.0e6, # stop_freq\n",
    "    count=1001, # num_points\n",
    ")\n",
    "acquire_settings = {\"integration_time\": 100e-6, \"num_averages\": 1}\n",
    "read_lo_freq = 5e+9\n",
    "expe = get_expe(freq_sweep, acquire_settings)\n",
    "expe.set_signal_map(signal_map)\n",
    "#---- Note: we only `set` the calibration, the calibrating is done when compliling the experiment\n",
    "expe.set_calibration(get_expe_calib_obj(freq_sweep, read_lo_freq)) "
   ]
  },
  {
   "cell_type": "markdown",
   "metadata": {},
   "source": [
    "## 4. complile, run and get data"
   ]
  },
  {
   "cell_type": "code",
   "execution_count": 21,
   "metadata": {},
   "outputs": [
    {
     "name": "stdout",
     "output_type": "stream",
     "text": [
      "[2024.08.16 11:09:08.964] INFO    Starting LabOne Q Compiler run...\n",
      "[2024.08.16 11:09:09.087] INFO    Schedule completed. [0.121 s]\n",
      "[2024.08.16 11:09:09.191] INFO    Code generation completed for all AWGs. [0.104 s]\n",
      "[2024.08.16 11:09:09.192] INFO    Completed compilation step 1 of 1. [0.226 s]\n",
      "[2024.08.16 11:09:09.194] INFO     ───────────────────────────────────────────────────────────────────── \n",
      "[2024.08.16 11:09:09.194] INFO     \u001b[1m \u001b[0m\u001b[1mDevice         \u001b[0m\u001b[1m \u001b[0m \u001b[1m \u001b[0m\u001b[1mAWG\u001b[0m\u001b[1m \u001b[0m \u001b[1m \u001b[0m\u001b[1mSeqC LOC\u001b[0m\u001b[1m \u001b[0m \u001b[1m \u001b[0m\u001b[1mCT entries\u001b[0m\u001b[1m \u001b[0m \u001b[1m \u001b[0m\u001b[1mWaveforms\u001b[0m\u001b[1m \u001b[0m \u001b[1m \u001b[0m\u001b[1mSamples\u001b[0m\u001b[1m \u001b[0m \n",
      "[2024.08.16 11:09:09.195] INFO     ───────────────────────────────────────────────────────────────────── \n",
      "[2024.08.16 11:09:09.195] INFO      device_shfqc        0         21            0           0         0  \n",
      "[2024.08.16 11:09:09.195] INFO      device_shfqc_sg     0          4            1           0         0  \n",
      "[2024.08.16 11:09:09.196] INFO     ───────────────────────────────────────────────────────────────────── \n",
      "[2024.08.16 11:09:09.196] INFO     \u001b[1m \u001b[0m\u001b[1mTOTAL          \u001b[0m\u001b[1m \u001b[0m \u001b[1m \u001b[0m\u001b[1m   \u001b[0m\u001b[1m \u001b[0m \u001b[1m \u001b[0m\u001b[1m      25\u001b[0m\u001b[1m \u001b[0m \u001b[1m \u001b[0m\u001b[1m         1\u001b[0m\u001b[1m \u001b[0m \u001b[1m \u001b[0m\u001b[1m         \u001b[0m\u001b[1m \u001b[0m \u001b[1m \u001b[0m\u001b[1m      0\u001b[0m\u001b[1m \u001b[0m \n",
      "[2024.08.16 11:09:09.196] INFO     ───────────────────────────────────────────────────────────────────── \n",
      "[2024.08.16 11:09:09.200] INFO    Finished LabOne Q Compiler run.\n"
     ]
    }
   ],
   "source": [
    "compiled_expe = session.compile(expe)"
   ]
  },
  {
   "cell_type": "code",
   "execution_count": 22,
   "metadata": {},
   "outputs": [
    {
     "name": "stdout",
     "output_type": "stream",
     "text": [
      "[2024.08.16 11:09:11.236] INFO    Configuring the device setup\n",
      "[2024.08.16 11:09:11.236] INFO    The device setup is configured\n",
      "[2024.08.16 11:09:11.239] INFO    Starting near-time execution...\n",
      "[2024.08.16 11:09:11.256] INFO    Finished near-time execution.\n"
     ]
    }
   ],
   "source": [
    "expe_results = session.run(compiled_expe)"
   ]
  },
  {
   "cell_type": "code",
   "execution_count": 14,
   "metadata": {},
   "outputs": [],
   "source": [
    "expe_res = expe_results.get_data(\"expe_result\")\n",
    "probe_freq = expe_results.get_axis(\"expe_result\")[0]"
   ]
  },
  {
   "cell_type": "markdown",
   "metadata": {},
   "source": [
    "## calibration on device"
   ]
  },
  {
   "cell_type": "code",
   "execution_count": 15,
   "metadata": {},
   "outputs": [],
   "source": [
    "# modify qubit information then calibrate it\n",
    "device_setup.set_calibration(q1.calibration())"
   ]
  },
  {
   "cell_type": "markdown",
   "metadata": {},
   "source": [
    "## Lo sweep expe"
   ]
  },
  {
   "cell_type": "code",
   "execution_count": 126,
   "metadata": {},
   "outputs": [],
   "source": [
    "# due to device design, the effective sweep is +- 500MHz centered from LO frequency\n",
    "# in order to get a more wild range of sweep, we need to modify LO and concate the measured data\n",
    "# scheme:\n",
    "#                   <----freq_sweep--->\n",
    "# lo_sweep step 1:  <------LO[1]------>\n",
    "# lo_sweep step 2:                    <------LO[2]------>\n",
    "# lo_sweep step 3:                                        <------LO[3]------>\n",
    "def get_expe_lo_sweep(freq_sweep, lo_sweep, aquire_settings):\n",
    "    # Create resonator spectroscopy experiment - uses only readout drive and signal acquisition\n",
    "    exp_spec = Experiment(\n",
    "        uid=\"Resonator Spectroscopy\",\n",
    "        signals=[\n",
    "            ExperimentSignal(\"measure\"),\n",
    "            ExperimentSignal(\"acquire\"),\n",
    "            ExperimentSignal(\"drive\")\n",
    "        ],\n",
    "    )\n",
    "\n",
    "    ## define experimental sequence\n",
    "    # loop - average multiple measurements for each frequency - measurement in spectroscopy mode\n",
    "    with exp_spec.sweep(uid=\"lo_sweep\", parameter=lo_sweep):\n",
    "        with exp_spec.acquire_loop_rt(\n",
    "            uid=\"shots\",\n",
    "            count=aquire_settings[\"num_averages\"],\n",
    "            acquisition_type=AcquisitionType.SPECTROSCOPY,\n",
    "        ):\n",
    "            with exp_spec.sweep(uid=\"res_freq\", parameter=freq_sweep):\n",
    "                # readout pulse and data acquisition\n",
    "                with exp_spec.section(uid=\"spectroscopy\"):\n",
    "                    # resonator signal readout\n",
    "                    exp_spec.acquire(\n",
    "                        signal=\"acquire\",\n",
    "                        handle=\"res_spec\",\n",
    "                        length=aquire_settings[\"integration_time\"],\n",
    "                    )\n",
    "                with exp_spec.section(uid=\"delay\", length=10e-6):\n",
    "                    # holdoff time after signal acquisition\n",
    "                    exp_spec.reserve(signal=\"measure\")\n",
    "    return exp_spec"
   ]
  },
  {
   "cell_type": "code",
   "execution_count": 129,
   "metadata": {},
   "outputs": [],
   "source": [
    "# we can then simply define two sweeps to achieve it\n",
    "freq_sweep = LinearSweepParameter(\n",
    "    uid=\"res_freq\",\n",
    "    start=-250e+6, # start_freq\n",
    "    stop=249e+6, # stop_freq\n",
    "    count=500, # num_points\n",
    ")\n",
    "lo_sweep = LinearSweepParameter(\n",
    "    uid=\"lo_freq\",\n",
    "    start=2e+9, # start_freq\n",
    "    stop=5e+9, # stop_freq\n",
    "    count=7, # num_points\n",
    ")\n",
    "acquire_settings = {\"integration_time\": 100e-6, \"num_averages\": 1}\n",
    "expe_lo_sweep = get_expe_lo_sweep(freq_sweep, lo_sweep, acquire_settings)\n",
    "expe_lo_sweep.set_signal_map(signal_map)\n",
    "#---- Note: we only `set` the calibration, the calibrating is done when compliling the experiment\n",
    "expe_lo_sweep.set_calibration(get_expe_calib_obj(freq_sweep, lo_sweep)) "
   ]
  },
  {
   "cell_type": "code",
   "execution_count": 130,
   "metadata": {},
   "outputs": [
    {
     "name": "stdout",
     "output_type": "stream",
     "text": [
      "[2024.08.16 13:07:25.746] INFO    Starting LabOne Q Compiler run...\n",
      "[2024.08.16 13:07:25.776] INFO    Schedule completed. [0.029 s]\n",
      "[2024.08.16 13:07:25.831] INFO    Code generation completed for all AWGs. [0.055 s]\n",
      "[2024.08.16 13:07:25.831] INFO    Completed compilation step 1 of 7. [0.084 s]\n",
      "[2024.08.16 13:07:25.832] INFO    Skipping compilation for next step(s)...\n",
      "[2024.08.16 13:07:25.834] INFO     ───────────────────────────────────────────────────────────────────── \n",
      "[2024.08.16 13:07:25.835] INFO     \u001b[1m \u001b[0m\u001b[1mDevice         \u001b[0m\u001b[1m \u001b[0m \u001b[1m \u001b[0m\u001b[1mAWG\u001b[0m\u001b[1m \u001b[0m \u001b[1m \u001b[0m\u001b[1mSeqC LOC\u001b[0m\u001b[1m \u001b[0m \u001b[1m \u001b[0m\u001b[1mCT entries\u001b[0m\u001b[1m \u001b[0m \u001b[1m \u001b[0m\u001b[1mWaveforms\u001b[0m\u001b[1m \u001b[0m \u001b[1m \u001b[0m\u001b[1mSamples\u001b[0m\u001b[1m \u001b[0m \n",
      "[2024.08.16 13:07:25.835] INFO     ───────────────────────────────────────────────────────────────────── \n",
      "[2024.08.16 13:07:25.836] INFO      device_shfqc        0         21            0           0         0  \n",
      "[2024.08.16 13:07:25.836] INFO      device_shfqc_sg     0          4            1           0         0  \n",
      "[2024.08.16 13:07:25.836] INFO     ───────────────────────────────────────────────────────────────────── \n",
      "[2024.08.16 13:07:25.837] INFO     \u001b[1m \u001b[0m\u001b[1mTOTAL          \u001b[0m\u001b[1m \u001b[0m \u001b[1m \u001b[0m\u001b[1m   \u001b[0m\u001b[1m \u001b[0m \u001b[1m \u001b[0m\u001b[1m      25\u001b[0m\u001b[1m \u001b[0m \u001b[1m \u001b[0m\u001b[1m         1\u001b[0m\u001b[1m \u001b[0m \u001b[1m \u001b[0m\u001b[1m         \u001b[0m\u001b[1m \u001b[0m \u001b[1m \u001b[0m\u001b[1m      0\u001b[0m\u001b[1m \u001b[0m \n",
      "[2024.08.16 13:07:25.837] INFO     ───────────────────────────────────────────────────────────────────── \n",
      "[2024.08.16 13:07:25.840] INFO    Finished LabOne Q Compiler run.\n",
      "[2024.08.16 13:07:25.842] INFO    Configuring the device setup\n",
      "[2024.08.16 13:07:25.842] INFO    The device setup is configured\n",
      "[2024.08.16 13:07:25.844] INFO    Starting near-time execution...\n",
      "[2024.08.16 13:07:25.945] INFO    Finished near-time execution.\n"
     ]
    }
   ],
   "source": [
    "compiled_expe_lo_sweep = session.compile(expe_lo_sweep)\n",
    "expe_lo_sweep_results = session.run(compiled_expe_lo_sweep)"
   ]
  },
  {
   "cell_type": "markdown",
   "metadata": {},
   "source": [
    "## regist third party function"
   ]
  },
  {
   "cell_type": "code",
   "execution_count": 145,
   "metadata": {},
   "outputs": [],
   "source": [
    "# define and regist a function to the session\n",
    "def foo(session, a, b, c): # the first parameter MUST be reserved for `session`\n",
    "    print(f'foo called with a, b, c = {a}, {b}, {c}')\n",
    "session.register_neartime_callback(func=foo, name='foo')"
   ]
  },
  {
   "cell_type": "code",
   "execution_count": 146,
   "metadata": {},
   "outputs": [],
   "source": [
    "# use previous setup for example\n",
    "def get_expe_regist(freq_sweep, lo_sweep, aquire_settings):\n",
    "    # Create resonator spectroscopy experiment - uses only readout drive and signal acquisition\n",
    "    exp_spec = Experiment(\n",
    "        uid=\"Resonator Spectroscopy\",\n",
    "        signals=[\n",
    "            ExperimentSignal(\"measure\"),\n",
    "            ExperimentSignal(\"acquire\"),\n",
    "            ExperimentSignal(\"drive\")\n",
    "        ],\n",
    "    )\n",
    "\n",
    "    # define experimental sequence\n",
    "    with exp_spec.sweep(uid=\"lo_sweep\", parameter=lo_sweep):\n",
    "        exp_spec.call(foo, a=2, b=1, c=3)\n",
    "        with exp_spec.acquire_loop_rt(\n",
    "            uid=\"shots\",\n",
    "            count=aquire_settings[\"num_averages\"],\n",
    "            acquisition_type=AcquisitionType.SPECTROSCOPY,\n",
    "        ):\n",
    "            with exp_spec.sweep(uid=\"res_freq\", parameter=freq_sweep):\n",
    "                # readout pulse and data acquisition\n",
    "                with exp_spec.section(uid=\"spectroscopy\"):\n",
    "                    # resonator signal readout\n",
    "                    exp_spec.acquire(\n",
    "                        signal=\"acquire\",\n",
    "                        handle=\"res_spec\",\n",
    "                        length=aquire_settings[\"integration_time\"],\n",
    "                    )\n",
    "                with exp_spec.section(uid=\"delay\", length=10e-6):\n",
    "                    # holdoff time after signal acquisition\n",
    "                    exp_spec.reserve(signal=\"measure\")\n",
    "    return exp_spec"
   ]
  },
  {
   "cell_type": "code",
   "execution_count": 149,
   "metadata": {},
   "outputs": [],
   "source": [
    "# we can then simply define two sweeps to achieve it\n",
    "freq_sweep = LinearSweepParameter(\n",
    "    uid=\"res_freq\",\n",
    "    start=-250e+6, # start_freq\n",
    "    stop=249e+6, # stop_freq\n",
    "    count=500, # num_points\n",
    ")\n",
    "lo_sweep = LinearSweepParameter(\n",
    "    uid=\"lo_freq\",\n",
    "    start=2e+9, # start_freq\n",
    "    stop=5e+9, # stop_freq\n",
    "    count=7, # num_points\n",
    ")\n",
    "acquire_settings = {\"integration_time\": 100e-6, \"num_averages\": 1}\n",
    "expe_regist = get_expe_regist(freq_sweep, lo_sweep, acquire_settings)\n",
    "expe_regist.set_signal_map(signal_map)\n",
    "#---- Note: we only `set` the calibration, the calibrating is done when compliling the experiment\n",
    "expe_regist.set_calibration(get_expe_calib_obj(freq_sweep, lo_sweep)) "
   ]
  },
  {
   "cell_type": "code",
   "execution_count": 150,
   "metadata": {},
   "outputs": [
    {
     "name": "stdout",
     "output_type": "stream",
     "text": [
      "[2024.08.16 13:14:59.688] INFO    Starting LabOne Q Compiler run...\n",
      "[2024.08.16 13:14:59.718] INFO    Schedule completed. [0.030 s]\n",
      "[2024.08.16 13:14:59.783] INFO    Code generation completed for all AWGs. [0.064 s]\n",
      "[2024.08.16 13:14:59.784] INFO    Completed compilation step 1 of 7. [0.095 s]\n",
      "[2024.08.16 13:14:59.784] INFO    Skipping compilation for next step(s)...\n",
      "[2024.08.16 13:14:59.788] INFO     ───────────────────────────────────────────────────────────────────── \n",
      "[2024.08.16 13:14:59.788] INFO     \u001b[1m \u001b[0m\u001b[1mDevice         \u001b[0m\u001b[1m \u001b[0m \u001b[1m \u001b[0m\u001b[1mAWG\u001b[0m\u001b[1m \u001b[0m \u001b[1m \u001b[0m\u001b[1mSeqC LOC\u001b[0m\u001b[1m \u001b[0m \u001b[1m \u001b[0m\u001b[1mCT entries\u001b[0m\u001b[1m \u001b[0m \u001b[1m \u001b[0m\u001b[1mWaveforms\u001b[0m\u001b[1m \u001b[0m \u001b[1m \u001b[0m\u001b[1mSamples\u001b[0m\u001b[1m \u001b[0m \n",
      "[2024.08.16 13:14:59.788] INFO     ───────────────────────────────────────────────────────────────────── \n",
      "[2024.08.16 13:14:59.789] INFO      device_shfqc        0         21            0           0         0  \n",
      "[2024.08.16 13:14:59.789] INFO      device_shfqc_sg     0          4            1           0         0  \n",
      "[2024.08.16 13:14:59.789] INFO     ───────────────────────────────────────────────────────────────────── \n",
      "[2024.08.16 13:14:59.790] INFO     \u001b[1m \u001b[0m\u001b[1mTOTAL          \u001b[0m\u001b[1m \u001b[0m \u001b[1m \u001b[0m\u001b[1m   \u001b[0m\u001b[1m \u001b[0m \u001b[1m \u001b[0m\u001b[1m      25\u001b[0m\u001b[1m \u001b[0m \u001b[1m \u001b[0m\u001b[1m         1\u001b[0m\u001b[1m \u001b[0m \u001b[1m \u001b[0m\u001b[1m         \u001b[0m\u001b[1m \u001b[0m \u001b[1m \u001b[0m\u001b[1m      0\u001b[0m\u001b[1m \u001b[0m \n",
      "[2024.08.16 13:14:59.790] INFO     ───────────────────────────────────────────────────────────────────── \n",
      "[2024.08.16 13:14:59.792] INFO    Finished LabOne Q Compiler run.\n",
      "[2024.08.16 13:14:59.794] INFO    Configuring the device setup\n",
      "[2024.08.16 13:14:59.794] INFO    The device setup is configured\n",
      "[2024.08.16 13:14:59.797] INFO    Starting near-time execution...\n",
      "foo with a, b, c = 2, 1, 3\n",
      "foo with a, b, c = 2, 1, 3\n",
      "foo with a, b, c = 2, 1, 3\n",
      "foo with a, b, c = 2, 1, 3\n",
      "foo with a, b, c = 2, 1, 3\n",
      "foo with a, b, c = 2, 1, 3\n",
      "foo with a, b, c = 2, 1, 3\n",
      "[2024.08.16 13:14:59.900] INFO    Finished near-time execution.\n"
     ]
    }
   ],
   "source": [
    "compiled_expe_regist = session.compile(expe_regist)\n",
    "expe_regist_results = session.run(compiled_expe_regist)"
   ]
  },
  {
   "cell_type": "markdown",
   "metadata": {},
   "source": [
    "## pluse"
   ]
  },
  {
   "cell_type": "code",
   "execution_count": 78,
   "metadata": {},
   "outputs": [],
   "source": [
    "# function that returns a qubit spectroscopy experiment- accepts frequency sweep range as parameter\n",
    "\n",
    "\n",
    "def qubit_spectroscopy(freq_sweep, drive_pulse, readout_pulse, acquire_settings):\n",
    "    # Create qubit spectroscopy Experiment - uses qubit drive, readout drive and data acquisition lines\n",
    "    exp_qspec = Experiment(\n",
    "        uid=\"Qubit Spectroscopy\",\n",
    "        signals=[\n",
    "            ExperimentSignal(\"drive\"),\n",
    "            ExperimentSignal(\"measure\"),\n",
    "            ExperimentSignal(\"acquire\"),\n",
    "        ],\n",
    "    )\n",
    "    \n",
    "    # inner loop - real-time averaging - QA in integration mode\n",
    "    with exp_qspec.acquire_loop_rt(\n",
    "        uid=\"freq_shots\",\n",
    "        count=2**acquire_settings['num_averages'],\n",
    "        acquisition_type=AcquisitionType.INTEGRATION,\n",
    "    ):\n",
    "        with exp_qspec.sweep(uid=\"qfreq_sweep\", parameter=freq_sweep):\n",
    "            # qubit drive\n",
    "            with exp_qspec.section(uid=\"qubit_excitation\"):\n",
    "                # play drive pluse on drive line\n",
    "                exp_qspec.play(signal=\"drive\", pulse=drive_pulse)\n",
    "            with exp_qspec.section(uid=\"readout_section\", play_after=\"qubit_excitation\"):\n",
    "                # play readout pulse on measure line\n",
    "                exp_qspec.play(signal=\"measure\", pulse=readout_pulse)\n",
    "                # trigger signal data acquisition\n",
    "                exp_qspec.acquire(\n",
    "                    signal=\"acquire\",\n",
    "                    handle=\"qb_spec\",\n",
    "                    kernel=readout_pulse,\n",
    "                )\n",
    "            with exp_qspec.section(uid=\"delay\"):\n",
    "                # relax time after readout - for qubit relaxation to groundstate and signal processing\n",
    "                exp_qspec.delay(signal=\"measure\", time=100e-6)\n",
    "    \n",
    "    # Calibration on experiment signal\n",
    "    exp_qspec.signals[\"drive\"].calibration = SignalCalibration(\n",
    "    oscillator=Oscillator(\n",
    "        frequency=freq_sweep,\n",
    "        modulation_type=ModulationType.HARDWARE,\n",
    "        )\n",
    "    )\n",
    "\n",
    "    return exp_qspec"
   ]
  },
  {
   "cell_type": "code",
   "execution_count": 95,
   "metadata": {},
   "outputs": [],
   "source": [
    "# define pulses\n",
    "drive_pulse = pulse_library.gaussian_square(\n",
    "    uid=f\"readout_pulse_q1\",\n",
    "    length=10e-6,\n",
    "    amplitude=1.0,\n",
    "    width=9.8e-6,\n",
    "    sigma=0.2,\n",
    ")\n",
    "readout_pulse = pulse_library.const(\n",
    "    uid=\"readout_pulse\",\n",
    "    length=2000e-9,\n",
    "    amplitude= 0.4\n",
    ")\n",
    "\n",
    "freq_sweep_q = LinearSweepParameter(\n",
    "    uid=f\"drive_freq_q1\",\n",
    "    start=-200e-6 + q1.parameters.resonance_frequency - q1.parameters.drive_lo_frequency,\n",
    "    stop=200e-6 + q1.parameters.resonance_frequency - q1.parameters.drive_lo_frequency,\n",
    "    count=201,\n",
    ")\n",
    "acquire_settings = {'num_averages': 12}\n",
    "exp_qspec = qubit_spectroscopy(freq_sweep_q, drive_pulse, readout_pulse, acquire_settings)\n",
    "exp_qspec.set_signal_map(signal_map)"
   ]
  },
  {
   "cell_type": "code",
   "execution_count": 97,
   "metadata": {},
   "outputs": [
    {
     "name": "stdout",
     "output_type": "stream",
     "text": [
      "[2024.08.16 11:57:18.201] INFO    Starting LabOne Q Compiler run...\n",
      "[2024.08.16 11:57:18.221] INFO    Schedule completed. [0.019 s]\n",
      "[2024.08.16 11:57:18.391] INFO    Code generation completed for all AWGs. [0.171 s]\n",
      "[2024.08.16 11:57:18.393] INFO    Completed compilation step 1 of 1. [0.190 s]\n",
      "[2024.08.16 11:57:18.395] INFO     ───────────────────────────────────────────────────────────────────── \n",
      "[2024.08.16 11:57:18.396] INFO     \u001b[1m \u001b[0m\u001b[1mDevice         \u001b[0m\u001b[1m \u001b[0m \u001b[1m \u001b[0m\u001b[1mAWG\u001b[0m\u001b[1m \u001b[0m \u001b[1m \u001b[0m\u001b[1mSeqC LOC\u001b[0m\u001b[1m \u001b[0m \u001b[1m \u001b[0m\u001b[1mCT entries\u001b[0m\u001b[1m \u001b[0m \u001b[1m \u001b[0m\u001b[1mWaveforms\u001b[0m\u001b[1m \u001b[0m \u001b[1m \u001b[0m\u001b[1mSamples\u001b[0m\u001b[1m \u001b[0m \n",
      "[2024.08.16 11:57:18.396] INFO     ───────────────────────────────────────────────────────────────────── \n",
      "[2024.08.16 11:57:18.396] INFO      device_shfqc        0         11            0           1      8000  \n",
      "[2024.08.16 11:57:18.397] INFO      device_shfqc_sg     0         25            2           1     40000  \n",
      "[2024.08.16 11:57:18.397] INFO     ───────────────────────────────────────────────────────────────────── \n",
      "[2024.08.16 11:57:18.398] INFO     \u001b[1m \u001b[0m\u001b[1mTOTAL          \u001b[0m\u001b[1m \u001b[0m \u001b[1m \u001b[0m\u001b[1m   \u001b[0m\u001b[1m \u001b[0m \u001b[1m \u001b[0m\u001b[1m      36\u001b[0m\u001b[1m \u001b[0m \u001b[1m \u001b[0m\u001b[1m         2\u001b[0m\u001b[1m \u001b[0m \u001b[1m \u001b[0m\u001b[1m         \u001b[0m\u001b[1m \u001b[0m \u001b[1m \u001b[0m\u001b[1m  48000\u001b[0m\u001b[1m \u001b[0m \n",
      "[2024.08.16 11:57:18.398] INFO     ───────────────────────────────────────────────────────────────────── \n",
      "[2024.08.16 11:57:18.402] INFO    Finished LabOne Q Compiler run.\n"
     ]
    },
    {
     "data": {
      "image/png": "[encoded data removed]",
      "text/plain": [
       "<Figure size 900x600 with 3 Axes>"
      ]
     },
     "metadata": {},
     "output_type": "display_data"
    }
   ],
   "source": [
    "compiled_qspec = session.compile(exp_qspec)\n",
    "plot_simulation(compiled_qspec, 0, 500e-6)"
   ]
  }
 ],
 "metadata": {
  "kernelspec": {
   "display_name": "Python 3",
   "language": "python",
   "name": "python3"
  },
  "language_info": {
   "codemirror_mode": {
    "name": "ipython",
    "version": 3
   },
   "file_extension": ".py",
   "mimetype": "text/x-python",
   "name": "python",
   "nbconvert_exporter": "python",
   "pygments_lexer": "ipython3",
   "version": "3.8.8"
  }
 },
 "nbformat": 4,
 "nbformat_minor": 2
}
